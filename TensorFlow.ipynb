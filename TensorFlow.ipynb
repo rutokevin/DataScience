{
  "nbformat": 4,
  "nbformat_minor": 0,
  "metadata": {
    "colab": {
      "provenance": [],
      "authorship_tag": "ABX9TyMG8hChkHybwhsHrvwgKlvP",
      "include_colab_link": true
    },
    "kernelspec": {
      "name": "python3",
      "display_name": "Python 3"
    },
    "language_info": {
      "name": "python"
    }
  },
  "cells": [
    {
      "cell_type": "markdown",
      "metadata": {
        "id": "view-in-github",
        "colab_type": "text"
      },
      "source": [
        "<a href=\"https://colab.research.google.com/github/rutokevin/DataScience/blob/master/TensorFlow.ipynb\" target=\"_parent\"><img src=\"https://colab.research.google.com/assets/colab-badge.svg\" alt=\"Open In Colab\"/></a>"
      ]
    },
    {
      "cell_type": "code",
      "execution_count": 41,
      "metadata": {
        "colab": {
          "base_uri": "https://localhost:8080/"
        },
        "id": "VuMSeFC3u9to",
        "outputId": "adfce2e0-c751-4940-d0f1-57ea5b975990"
      },
      "outputs": [
        {
          "output_type": "stream",
          "name": "stdout",
          "text": [
            "Epoch 1/4\n",
            "1875/1875 [==============================] - 9s 4ms/step - loss: 0.2935 - accuracy: 0.9151\n",
            "Epoch 2/4\n",
            "1875/1875 [==============================] - 7s 4ms/step - loss: 0.1420 - accuracy: 0.9579\n",
            "Epoch 3/4\n",
            "1875/1875 [==============================] - 8s 4ms/step - loss: 0.1064 - accuracy: 0.9670\n",
            "Epoch 4/4\n",
            "1875/1875 [==============================] - 7s 4ms/step - loss: 0.0866 - accuracy: 0.9726\n",
            "313/313 [==============================] - 1s 3ms/step - loss: 0.0786 - accuracy: 0.9758\n",
            "test_acc: 0.9757999777793884\n",
            "test_loss: 0.07855664193630219\n",
            "<keras.src.callbacks.History object at 0x785de4893040>\n"
          ]
        }
      ],
      "source": [
        "import tensorflow as tf\n",
        "# print(\"ternsorflow version:\",tf.__version__)\n",
        "mnist = tf.keras.datasets.mnist\n",
        "(x_train, y_train), (x_test, y_test) = mnist.load_data()\n",
        "\n",
        "x_train,x_test = x_train/255.0 , x_test/255.0\n",
        "model = tf.keras.models.Sequential([\n",
        "    tf.keras.layers.Flatten(input_shape=(28, 28)),  # Flatten layer to convert 28x28 images into 1D array\n",
        "    tf.keras.layers.Dense(128, activation='relu'),  # Fully connected layer with 128 neurons and ReLU activation\n",
        "    tf.keras.layers.Dropout(0.2),  # Dropout layer to prevent overfitting\n",
        "    tf.keras.layers.Dense(10)  # Output layer with 10 neurons (one for each digit) and no activation function\n",
        "])\n",
        "\n",
        "prediction = model(x_train[:1]).numpy()\n",
        "prediction\n",
        "tf.nn.softmax(prediction).numpy()\n",
        "loss_fn=tf.keras.losses.SparseCategoricalCrossentropy(from_logits=True)\n",
        "loss_fn(y_train[:1],prediction).numpy()\n",
        "model.compile(optimizer=\"adam\", loss=loss_fn,metrics=[\"accuracy\"])\n",
        "history = model.fit(\n",
        "    x_train,\n",
        "    y_train,\n",
        "    # batch_size=64,\n",
        "    epochs=4,\n",
        "\n",
        ")\n",
        "test_loss, test_acc = model.evaluate(x_test, y_test)\n",
        "print(\"test_acc: {}\".format(test_acc))\n",
        "print(\"test_loss: {}\".format(test_loss))\n",
        "print(history)"
      ]
    },
    {
      "cell_type": "markdown",
      "source": [],
      "metadata": {
        "id": "CfxzblPceV2P"
      }
    },
    {
      "cell_type": "markdown",
      "source": [],
      "metadata": {
        "id": "YEtc95RVu96q"
      }
    }
  ]
}